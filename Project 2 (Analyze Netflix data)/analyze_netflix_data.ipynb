{
  "metadata": {
    "kernelspec": {
      "name": "python",
      "display_name": "Python (Pyodide)",
      "language": "python"
    },
    "language_info": {
      "codemirror_mode": {
        "name": "python",
        "version": 3
      },
      "file_extension": ".py",
      "mimetype": "text/x-python",
      "name": "python",
      "nbconvert_exporter": "python",
      "pygments_lexer": "ipython3",
      "version": "3.8"
    },
    "colab": {
      "name": "Welcome to DataCamp Workspaces.ipynb",
      "provenance": []
    },
    "editor": "DataLab"
  },
  "nbformat_minor": 5,
  "nbformat": 4,
  "cells": [
    {
      "id": "5962b2cd-17bb-4ec9-b2d5-68537ca26860",
      "cell_type": "markdown",
      "source": "### netflix_data.csv\n| Column | Description |\n|--------|-------------|\n| `show_id` | The ID of the show |\n| `type` | Type of show |\n| `title` | Title of the show |\n| `director` | Director of the show |\n| `cast` | Cast of the show |\n| `country` | Country of origin |\n| `date_added` | Date added to Netflix |\n| `release_year` | Year of Netflix release |\n| `duration` | Duration of the show in minutes |\n| `description` | Description of the show |\n| `genre` | Show genre |",
      "metadata": {}
    },
    {
      "id": "320a3abc-8a36-4b2b-baaf-473325363a4d",
      "cell_type": "code",
      "source": "# Importing pandas and matplotlib\nimport pandas as pd\nimport matplotlib.pyplot as plt\n\n# Read in the Netflix CSV as a DataFrame\nnetflix_df = pd.read_csv(\"netflix_data.csv\", index_col=0)",
      "metadata": {
        "executionTime": 38,
        "lastSuccessfullyExecutedCode": "# Importing pandas and matplotlib\nimport pandas as pd\nimport matplotlib.pyplot as plt\n\n# Read in the Netflix CSV as a DataFrame\nnetflix_df = pd.read_csv(\"netflix_data.csv\", index_col=0)",
        "executionCancelledAt": null,
        "lastExecutedAt": 1746160376091,
        "lastExecutedByKernel": "ba9af2a1-766c-4d9e-ae5b-1f3e1358addb",
        "lastScheduledRunId": null
      },
      "outputs": [],
      "execution_count": 88
    },
    {
      "id": "72658473-114f-49eb-bd4e-cc03c710834a",
      "cell_type": "code",
      "source": "# view dataset\nnetflix_df.head()",
      "metadata": {
        "executionCancelledAt": null,
        "executionTime": 64,
        "lastExecutedAt": 1746160376155,
        "lastExecutedByKernel": "ba9af2a1-766c-4d9e-ae5b-1f3e1358addb",
        "lastScheduledRunId": null,
        "lastSuccessfullyExecutedCode": "# view dataset\nnetflix_df.head()",
        "outputsMetadata": {
          "0": {
            "height": 550,
            "type": "dataFrame",
            "tableState": {}
          }
        }
      },
      "outputs": [
        {
          "output_type": "execute_result",
          "data": {
            "application/com.datacamp.data-table.v2+json": {
              "table": {
                "schema": {
                  "fields": [
                    {
                      "name": "show_id",
                      "type": "string"
                    },
                    {
                      "name": "type",
                      "type": "string"
                    },
                    {
                      "name": "title",
                      "type": "string"
                    },
                    {
                      "name": "director",
                      "type": "string"
                    },
                    {
                      "name": "cast",
                      "type": "string"
                    },
                    {
                      "name": "country",
                      "type": "string"
                    },
                    {
                      "name": "date_added",
                      "type": "string"
                    },
                    {
                      "name": "release_year",
                      "type": "integer"
                    },
                    {
                      "name": "duration",
                      "type": "integer"
                    },
                    {
                      "name": "description",
                      "type": "string"
                    },
                    {
                      "name": "genre",
                      "type": "string"
                    }
                  ],
                  "primaryKey": [
                    "show_id"
                  ],
                  "pandas_version": "1.4.0"
                },
                "data": {
                  "show_id": [
                    "s2",
                    "s3",
                    "s4",
                    "s5",
                    "s6"
                  ],
                  "type": [
                    "Movie",
                    "Movie",
                    "Movie",
                    "Movie",
                    "TV Show"
                  ],
                  "title": [
                    "7:19",
                    "23:59",
                    "9",
                    "21",
                    "46"
                  ],
                  "director": [
                    "Jorge Michel Grau",
                    "Gilbert Chan",
                    "Shane Acker",
                    "Robert Luketic",
                    "Serdar Akar"
                  ],
                  "cast": [
                    "Demián Bichir, Héctor Bonilla, Oscar Serrano, Azalia Ortiz, Octavio Michel, Carmen Beato",
                    "Tedd Chan, Stella Chung, Henley Hii, Lawrence Koh, Tommy Kuan, Josh Lai, Mark Lee, Susan Leong, Benjamin Lim",
                    "Elijah Wood, John C. Reilly, Jennifer Connelly, Christopher Plummer, Crispin Glover, Martin Landau, Fred Tatasciore, Alan Oppenheimer, Tom Kane",
                    "Jim Sturgess, Kevin Spacey, Kate Bosworth, Aaron Yoo, Liza Lapira, Jacob Pitts, Laurence Fishburne, Jack McGee, Josh Gad, Sam Golzari, Helen Carey, Jack Gilpin",
                    "Erdal Beşikçioğlu, Yasemin Allen, Melis Birkan, Saygın Soysal, Berkan Şal, Metin Belgin, Ayça Eren, Selin Uludoğan, Özay Fecht, Suna Yıldızoğlu"
                  ],
                  "country": [
                    "Mexico",
                    "Singapore",
                    "United States",
                    "United States",
                    "Turkey"
                  ],
                  "date_added": [
                    "December 23, 2016",
                    "December 20, 2018",
                    "November 16, 2017",
                    "January 1, 2020",
                    "July 1, 2017"
                  ],
                  "release_year": [
                    2016,
                    2011,
                    2009,
                    2008,
                    2016
                  ],
                  "duration": [
                    93,
                    78,
                    80,
                    123,
                    1
                  ],
                  "description": [
                    "After a devastating earthquake hits Mexico City, trapped survivors from all walks of life wait to be rescued while trying desperately to stay alive.",
                    "When an army recruit is found dead, his fellow soldiers are forced to confront a terrifying secret that's haunting their jungle island training camp.",
                    "In a postapocalyptic world, rag-doll robots hide in fear from dangerous machines out to exterminate them, until a brave newcomer joins the group.",
                    "A brilliant group of students become card-counting experts with the intent of swindling millions out of Las Vegas casinos by playing blackjack.",
                    "A genetics professor experiments with a treatment for his comatose sister that blends medical and shamanic cures, but unlocks a shocking side effect."
                  ],
                  "genre": [
                    "Dramas",
                    "Horror Movies",
                    "Action",
                    "Dramas",
                    "International TV"
                  ]
                }
              },
              "total_rows": 5,
              "truncation_type": null
            },
            "text/plain": "            type  ...             genre\nshow_id           ...                  \ns2         Movie  ...            Dramas\ns3         Movie  ...     Horror Movies\ns4         Movie  ...            Action\ns5         Movie  ...            Dramas\ns6       TV Show  ...  International TV\n\n[5 rows x 10 columns]",
            "text/html": "<div>\n<style scoped>\n    .dataframe tbody tr th:only-of-type {\n        vertical-align: middle;\n    }\n\n    .dataframe tbody tr th {\n        vertical-align: top;\n    }\n\n    .dataframe thead th {\n        text-align: right;\n    }\n</style>\n<table border=\"1\" class=\"dataframe\">\n  <thead>\n    <tr style=\"text-align: right;\">\n      <th></th>\n      <th>type</th>\n      <th>title</th>\n      <th>director</th>\n      <th>cast</th>\n      <th>country</th>\n      <th>date_added</th>\n      <th>release_year</th>\n      <th>duration</th>\n      <th>description</th>\n      <th>genre</th>\n    </tr>\n    <tr>\n      <th>show_id</th>\n      <th></th>\n      <th></th>\n      <th></th>\n      <th></th>\n      <th></th>\n      <th></th>\n      <th></th>\n      <th></th>\n      <th></th>\n      <th></th>\n    </tr>\n  </thead>\n  <tbody>\n    <tr>\n      <th>s2</th>\n      <td>Movie</td>\n      <td>7:19</td>\n      <td>Jorge Michel Grau</td>\n      <td>Demián Bichir, Héctor Bonilla, Oscar Serrano, ...</td>\n      <td>Mexico</td>\n      <td>December 23, 2016</td>\n      <td>2016</td>\n      <td>93</td>\n      <td>After a devastating earthquake hits Mexico Cit...</td>\n      <td>Dramas</td>\n    </tr>\n    <tr>\n      <th>s3</th>\n      <td>Movie</td>\n      <td>23:59</td>\n      <td>Gilbert Chan</td>\n      <td>Tedd Chan, Stella Chung, Henley Hii, Lawrence ...</td>\n      <td>Singapore</td>\n      <td>December 20, 2018</td>\n      <td>2011</td>\n      <td>78</td>\n      <td>When an army recruit is found dead, his fellow...</td>\n      <td>Horror Movies</td>\n    </tr>\n    <tr>\n      <th>s4</th>\n      <td>Movie</td>\n      <td>9</td>\n      <td>Shane Acker</td>\n      <td>Elijah Wood, John C. Reilly, Jennifer Connelly...</td>\n      <td>United States</td>\n      <td>November 16, 2017</td>\n      <td>2009</td>\n      <td>80</td>\n      <td>In a postapocalyptic world, rag-doll robots hi...</td>\n      <td>Action</td>\n    </tr>\n    <tr>\n      <th>s5</th>\n      <td>Movie</td>\n      <td>21</td>\n      <td>Robert Luketic</td>\n      <td>Jim Sturgess, Kevin Spacey, Kate Bosworth, Aar...</td>\n      <td>United States</td>\n      <td>January 1, 2020</td>\n      <td>2008</td>\n      <td>123</td>\n      <td>A brilliant group of students become card-coun...</td>\n      <td>Dramas</td>\n    </tr>\n    <tr>\n      <th>s6</th>\n      <td>TV Show</td>\n      <td>46</td>\n      <td>Serdar Akar</td>\n      <td>Erdal Beşikçioğlu, Yasemin Allen, Melis Birkan...</td>\n      <td>Turkey</td>\n      <td>July 1, 2017</td>\n      <td>2016</td>\n      <td>1</td>\n      <td>A genetics professor experiments with a treatm...</td>\n      <td>International TV</td>\n    </tr>\n  </tbody>\n</table>\n</div>"
          },
          "metadata": {
            "application/com.datacamp.data-table.v2+json": {
              "status": "success"
            }
          },
          "execution_count": 89
        }
      ],
      "execution_count": 89
    },
    {
      "id": "5aed690f-dc83-4142-a1a5-2014c35839b0",
      "cell_type": "code",
      "source": "# filter 1990s movies\nmovie_1990s = netflix_df[(netflix_df['release_year'] >= 1990) & (netflix_df['release_year'] < 2000)]\nmovie_1990s.head()",
      "metadata": {
        "executionCancelledAt": null,
        "executionTime": 65,
        "lastExecutedAt": 1746160376220,
        "lastExecutedByKernel": "ba9af2a1-766c-4d9e-ae5b-1f3e1358addb",
        "lastScheduledRunId": null,
        "lastSuccessfullyExecutedCode": "# filter 1990s movies\nmovie_1990s = netflix_df[(netflix_df['release_year'] >= 1990) & (netflix_df['release_year'] < 2000)]\nmovie_1990s.head()",
        "outputsMetadata": {
          "0": {
            "height": 550,
            "type": "dataFrame",
            "tableState": {
              "customFilter": {
                "const": {
                  "type": "boolean",
                  "valid": true,
                  "value": true
                },
                "id": "42df5bbc-8df9-4030-88f7-441644c5e382",
                "nodeType": "const"
              }
            }
          }
        }
      },
      "outputs": [
        {
          "output_type": "execute_result",
          "data": {
            "application/com.datacamp.data-table.v2+json": {
              "table": {
                "schema": {
                  "fields": [
                    {
                      "name": "show_id",
                      "type": "string"
                    },
                    {
                      "name": "type",
                      "type": "string"
                    },
                    {
                      "name": "title",
                      "type": "string"
                    },
                    {
                      "name": "director",
                      "type": "string"
                    },
                    {
                      "name": "cast",
                      "type": "string"
                    },
                    {
                      "name": "country",
                      "type": "string"
                    },
                    {
                      "name": "date_added",
                      "type": "string"
                    },
                    {
                      "name": "release_year",
                      "type": "integer"
                    },
                    {
                      "name": "duration",
                      "type": "integer"
                    },
                    {
                      "name": "description",
                      "type": "string"
                    },
                    {
                      "name": "genre",
                      "type": "string"
                    }
                  ],
                  "primaryKey": [
                    "show_id"
                  ],
                  "pandas_version": "1.4.0"
                },
                "data": {
                  "show_id": [
                    "s8",
                    "s167",
                    "s211",
                    "s239",
                    "s274"
                  ],
                  "type": [
                    "Movie",
                    "Movie",
                    "Movie",
                    "Movie",
                    "Movie"
                  ],
                  "title": [
                    "187",
                    "A Dangerous Woman",
                    "A Night at the Roxbury",
                    "A Thin Line Between Love & Hate",
                    "Aashik Awara"
                  ],
                  "director": [
                    "Kevin Reynolds",
                    "Stephen Gyllenhaal",
                    "John Fortenberry",
                    "Martin Lawrence",
                    "Umesh Mehra"
                  ],
                  "cast": [
                    "Samuel L. Jackson, John Heard, Kelly Rowan, Clifton Collins Jr., Tony Plana",
                    "Debra Winger, Barbara Hershey, Gabriel Byrne, Laurie Metcalf, John Terry, Maggie Gyllenhaal, Jake Gyllenhaal, Chloe Webb, David Strathairn",
                    "Will Ferrell, Chris Kattan, Dan Hedaya, Molly Shannon, Richard Grieco, Loni Anderson, Elisa Donovan, Gigi Rice, Lochlyn Munro, Dwayne Hickman",
                    "Martin Lawrence, Lynn Whitfield, Regina King, Bobby Brown, Della Reese, Daryl Mitchell, Roger Mosley, Malinda Williams, Roger E. Mosley, Simbi Khali, Tangie Ambrose, Wendy Raquel Robinson, Stacii Jae Johnson, Faizon Love, Miguel A. Núñez Jr., Tracy Morgan",
                    "Saif Ali Khan, Mamta Kulkarni, Mohnish Bahl, Sharmila Tagore, Saeed Jaffrey, Kader Khan"
                  ],
                  "country": [
                    "United States",
                    "United States",
                    "United States",
                    "United States",
                    "India"
                  ],
                  "date_added": [
                    "November 1, 2019",
                    "April 1, 2018",
                    "December 1, 2019",
                    "December 1, 2020",
                    "June 1, 2017"
                  ],
                  "release_year": [
                    1997,
                    1993,
                    1998,
                    1996,
                    1993
                  ],
                  "duration": [
                    119,
                    101,
                    82,
                    108,
                    154
                  ],
                  "description": [
                    "After one of his high school students attacks him, dedicated teacher Trevor Garfield grows weary of the gang warfare in the New York City school system and moves to California to teach there, thinking it must be a less hostile environment.",
                    "At the center of this engrossing melodrama is a Golden Globe-nominated turn by Debra Winger, who plays a sheltered, slow-witted woman living with her widowed Aunt Frances while working at a dry cleaners.",
                    "After a run-in with Richard Grieco, dimwits Doug and Steve gain entry to a swanky nightclub in this comedy based on a \"Saturday Night Live\" sketch.",
                    "When a philandering club promoter sets out to woo a rich, glamorous woman, he has no clue just how much mayhem he's about to unleash on his life.",
                    "Raised by a kindly thief, orphaned Jimmy goes on the run from goons and falls in love with Jyoti, whose father indirectly caused his parents' deaths."
                  ],
                  "genre": [
                    "Dramas",
                    "Dramas",
                    "Comedies",
                    "Comedies",
                    "Dramas"
                  ]
                }
              },
              "total_rows": 5,
              "truncation_type": null
            },
            "text/plain": "          type  ...     genre\nshow_id         ...          \ns8       Movie  ...    Dramas\ns167     Movie  ...    Dramas\ns211     Movie  ...  Comedies\ns239     Movie  ...  Comedies\ns274     Movie  ...    Dramas\n\n[5 rows x 10 columns]",
            "text/html": "<div>\n<style scoped>\n    .dataframe tbody tr th:only-of-type {\n        vertical-align: middle;\n    }\n\n    .dataframe tbody tr th {\n        vertical-align: top;\n    }\n\n    .dataframe thead th {\n        text-align: right;\n    }\n</style>\n<table border=\"1\" class=\"dataframe\">\n  <thead>\n    <tr style=\"text-align: right;\">\n      <th></th>\n      <th>type</th>\n      <th>title</th>\n      <th>director</th>\n      <th>cast</th>\n      <th>country</th>\n      <th>date_added</th>\n      <th>release_year</th>\n      <th>duration</th>\n      <th>description</th>\n      <th>genre</th>\n    </tr>\n    <tr>\n      <th>show_id</th>\n      <th></th>\n      <th></th>\n      <th></th>\n      <th></th>\n      <th></th>\n      <th></th>\n      <th></th>\n      <th></th>\n      <th></th>\n      <th></th>\n    </tr>\n  </thead>\n  <tbody>\n    <tr>\n      <th>s8</th>\n      <td>Movie</td>\n      <td>187</td>\n      <td>Kevin Reynolds</td>\n      <td>Samuel L. Jackson, John Heard, Kelly Rowan, Cl...</td>\n      <td>United States</td>\n      <td>November 1, 2019</td>\n      <td>1997</td>\n      <td>119</td>\n      <td>After one of his high school students attacks ...</td>\n      <td>Dramas</td>\n    </tr>\n    <tr>\n      <th>s167</th>\n      <td>Movie</td>\n      <td>A Dangerous Woman</td>\n      <td>Stephen Gyllenhaal</td>\n      <td>Debra Winger, Barbara Hershey, Gabriel Byrne, ...</td>\n      <td>United States</td>\n      <td>April 1, 2018</td>\n      <td>1993</td>\n      <td>101</td>\n      <td>At the center of this engrossing melodrama is ...</td>\n      <td>Dramas</td>\n    </tr>\n    <tr>\n      <th>s211</th>\n      <td>Movie</td>\n      <td>A Night at the Roxbury</td>\n      <td>John Fortenberry</td>\n      <td>Will Ferrell, Chris Kattan, Dan Hedaya, Molly ...</td>\n      <td>United States</td>\n      <td>December 1, 2019</td>\n      <td>1998</td>\n      <td>82</td>\n      <td>After a run-in with Richard Grieco, dimwits Do...</td>\n      <td>Comedies</td>\n    </tr>\n    <tr>\n      <th>s239</th>\n      <td>Movie</td>\n      <td>A Thin Line Between Love &amp; Hate</td>\n      <td>Martin Lawrence</td>\n      <td>Martin Lawrence, Lynn Whitfield, Regina King, ...</td>\n      <td>United States</td>\n      <td>December 1, 2020</td>\n      <td>1996</td>\n      <td>108</td>\n      <td>When a philandering club promoter sets out to ...</td>\n      <td>Comedies</td>\n    </tr>\n    <tr>\n      <th>s274</th>\n      <td>Movie</td>\n      <td>Aashik Awara</td>\n      <td>Umesh Mehra</td>\n      <td>Saif Ali Khan, Mamta Kulkarni, Mohnish Bahl, S...</td>\n      <td>India</td>\n      <td>June 1, 2017</td>\n      <td>1993</td>\n      <td>154</td>\n      <td>Raised by a kindly thief, orphaned Jimmy goes ...</td>\n      <td>Dramas</td>\n    </tr>\n  </tbody>\n</table>\n</div>"
          },
          "metadata": {
            "application/com.datacamp.data-table.v2+json": {
              "status": "success"
            }
          },
          "execution_count": 90
        }
      ],
      "execution_count": 90
    },
    {
      "id": "8fe72b79-36b8-44fa-a2aa-1939c04988a5",
      "cell_type": "code",
      "source": "# view duration distribution\nduration_col = movie_1990s['duration']\n\ncounts, bins, patches = plt.hist(duration_col)\nplt.show()",
      "metadata": {
        "executionCancelledAt": null,
        "executionTime": 201,
        "lastExecutedAt": 1746160376421,
        "lastExecutedByKernel": "ba9af2a1-766c-4d9e-ae5b-1f3e1358addb",
        "lastScheduledRunId": null,
        "lastSuccessfullyExecutedCode": "# view duration distribution\nduration_col = movie_1990s['duration']\n\ncounts, bins, patches = plt.hist(duration_col)\nplt.show()"
      },
      "outputs": [
        {
          "output_type": "display_data",
          "data": {
            "text/plain": "<Figure size 640x480 with 1 Axes>",
            "image/png": "[encoded data removed]"
          },
          "metadata": {
            "image/png": {
              "width": 545,
              "height": 413
            }
          }
        }
      ],
      "execution_count": 91
    },
    {
      "id": "533f6905-e1e5-43b0-87d8-8141d9df4e0a",
      "cell_type": "code",
      "source": "# find most frequent duration\nmax_count_index = counts.argmax()\nmost_frequent_range = (bins[max_count_index], bins[max_count_index + 1])\n\nduration = int((most_frequent_range[0] + most_frequent_range[0])/2)\nprint(duration)",
      "metadata": {
        "executionCancelledAt": null,
        "executionTime": 55,
        "lastExecutedAt": 1746160376476,
        "lastExecutedByKernel": "ba9af2a1-766c-4d9e-ae5b-1f3e1358addb",
        "lastScheduledRunId": null,
        "lastSuccessfullyExecutedCode": "# find most frequent duration\nmax_count_index = counts.argmax()\nmost_frequent_range = (bins[max_count_index], bins[max_count_index + 1])\n\nduration = int((most_frequent_range[0] + most_frequent_range[0])/2)\nprint(duration)",
        "outputsMetadata": {
          "0": {
            "height": 38,
            "type": "stream"
          }
        }
      },
      "outputs": [
        {
          "output_type": "stream",
          "name": "stdout",
          "text": "98\n"
        }
      ],
      "execution_count": 92
    },
    {
      "id": "aa204823-d1bc-4a4e-aef5-a056730d82f1",
      "cell_type": "code",
      "source": "# count short action movie\nshort_movie_count = len(movie_1990s[(movie_1990s['duration'] < 90) & (movie_1990s['type'] == 'Movie') & (movie_1990s['genre'] == 'Action')])\nprint(short_movie_count)",
      "metadata": {
        "executionCancelledAt": null,
        "executionTime": 50,
        "lastExecutedAt": 1746160376526,
        "lastExecutedByKernel": "ba9af2a1-766c-4d9e-ae5b-1f3e1358addb",
        "lastScheduledRunId": null,
        "lastSuccessfullyExecutedCode": "# count short action movie\nshort_movie_count = len(movie_1990s[(movie_1990s['duration'] < 90) & (movie_1990s['type'] == 'Movie') & (movie_1990s['genre'] == 'Action')])\nprint(short_movie_count)",
        "outputsMetadata": {
          "0": {
            "height": 38,
            "type": "stream"
          }
        }
      },
      "outputs": [
        {
          "output_type": "stream",
          "name": "stdout",
          "text": "7\n"
        }
      ],
      "execution_count": 93
    }
  ]
}