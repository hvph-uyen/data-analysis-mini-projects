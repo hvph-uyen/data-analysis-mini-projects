{
  "metadata": {
    "kernelspec": {
      "name": "python",
      "display_name": "Python (Pyodide)",
      "language": "python"
    },
    "language_info": {
      "codemirror_mode": {
        "name": "python",
        "version": 3
      },
      "file_extension": ".py",
      "mimetype": "text/x-python",
      "name": "python",
      "nbconvert_exporter": "python",
      "pygments_lexer": "ipython3",
      "version": "3.8"
    },
    "editor": "DataLab"
  },
  "nbformat_minor": 5,
  "nbformat": 4,
  "cells": [
    {
      "id": "d0eb4f16-5a99-460d-a5ba-706b7ef0bbe7",
      "cell_type": "code",
      "source": "import pandas as pd\n\n# Read in the data\nschools = pd.read_csv(\"schools.csv\")\n\n# Preview the data\nschools.head()",
      "metadata": {
        "id": "bA5ajAmk7XH6",
        "executionTime": 26,
        "lastSuccessfullyExecutedCode": "# Re-run this cell \nimport pandas as pd\n\n# Read in the data\nschools = pd.read_csv(\"schools.csv\")\n\n# Preview the data\nschools.head()",
        "executionCancelledAt": null,
        "lastExecutedAt": 1746163441374,
        "lastScheduledRunId": null,
        "outputsMetadata": {
          "0": {
            "height": 50,
            "type": "dataFrame",
            "tableState": {
              "customFilter": {
                "const": {
                  "type": "boolean",
                  "valid": true,
                  "value": true
                },
                "id": "0c4f8182-9630-4a66-a4ae-b0c3d1b6f104",
                "nodeType": "const"
              }
            }
          }
        },
        "lastExecutedByKernel": "0a7b878a-e768-4cd8-8059-3713b027ece9"
      },
      "outputs": [
        {
          "output_type": "execute_result",
          "data": {
            "application/com.datacamp.data-table.v2+json": {
              "table": {
                "schema": {
                  "fields": [
                    {
                      "name": "index",
                      "type": "integer"
                    },
                    {
                      "name": "school_name",
                      "type": "string"
                    },
                    {
                      "name": "borough",
                      "type": "string"
                    },
                    {
                      "name": "building_code",
                      "type": "string"
                    },
                    {
                      "name": "average_math",
                      "type": "integer"
                    },
                    {
                      "name": "average_reading",
                      "type": "integer"
                    },
                    {
                      "name": "average_writing",
                      "type": "integer"
                    },
                    {
                      "name": "percent_tested",
                      "type": "number"
                    }
                  ],
                  "primaryKey": [
                    "index"
                  ],
                  "pandas_version": "1.4.0"
                },
                "data": {
                  "index": [
                    0,
                    1,
                    2,
                    3,
                    4
                  ],
                  "school_name": [
                    "New Explorations into Science, Technology and Math High School",
                    "Essex Street Academy",
                    "Lower Manhattan Arts Academy",
                    "High School for Dual Language and Asian Studies",
                    "Henry Street School for International Studies"
                  ],
                  "borough": [
                    "Manhattan",
                    "Manhattan",
                    "Manhattan",
                    "Manhattan",
                    "Manhattan"
                  ],
                  "building_code": [
                    "M022",
                    "M445",
                    "M445",
                    "M445",
                    "M056"
                  ],
                  "average_math": [
                    657,
                    395,
                    418,
                    613,
                    410
                  ],
                  "average_reading": [
                    601,
                    411,
                    428,
                    453,
                    406
                  ],
                  "average_writing": [
                    601,
                    387,
                    415,
                    463,
                    381
                  ],
                  "percent_tested": [
                    null,
                    78.9,
                    65.1,
                    95.9,
                    59.7
                  ]
                }
              },
              "total_rows": 5,
              "truncation_type": null
            },
            "text/plain": "                                         school_name  ... percent_tested\n0  New Explorations into Science, Technology and ...  ...            NaN\n1                               Essex Street Academy  ...           78.9\n2                       Lower Manhattan Arts Academy  ...           65.1\n3    High School for Dual Language and Asian Studies  ...           95.9\n4      Henry Street School for International Studies  ...           59.7\n\n[5 rows x 7 columns]",
            "text/html": "<div>\n<style scoped>\n    .dataframe tbody tr th:only-of-type {\n        vertical-align: middle;\n    }\n\n    .dataframe tbody tr th {\n        vertical-align: top;\n    }\n\n    .dataframe thead th {\n        text-align: right;\n    }\n</style>\n<table border=\"1\" class=\"dataframe\">\n  <thead>\n    <tr style=\"text-align: right;\">\n      <th></th>\n      <th>school_name</th>\n      <th>borough</th>\n      <th>building_code</th>\n      <th>average_math</th>\n      <th>average_reading</th>\n      <th>average_writing</th>\n      <th>percent_tested</th>\n    </tr>\n  </thead>\n  <tbody>\n    <tr>\n      <th>0</th>\n      <td>New Explorations into Science, Technology and ...</td>\n      <td>Manhattan</td>\n      <td>M022</td>\n      <td>657</td>\n      <td>601</td>\n      <td>601</td>\n      <td>NaN</td>\n    </tr>\n    <tr>\n      <th>1</th>\n      <td>Essex Street Academy</td>\n      <td>Manhattan</td>\n      <td>M445</td>\n      <td>395</td>\n      <td>411</td>\n      <td>387</td>\n      <td>78.9</td>\n    </tr>\n    <tr>\n      <th>2</th>\n      <td>Lower Manhattan Arts Academy</td>\n      <td>Manhattan</td>\n      <td>M445</td>\n      <td>418</td>\n      <td>428</td>\n      <td>415</td>\n      <td>65.1</td>\n    </tr>\n    <tr>\n      <th>3</th>\n      <td>High School for Dual Language and Asian Studies</td>\n      <td>Manhattan</td>\n      <td>M445</td>\n      <td>613</td>\n      <td>453</td>\n      <td>463</td>\n      <td>95.9</td>\n    </tr>\n    <tr>\n      <th>4</th>\n      <td>Henry Street School for International Studies</td>\n      <td>Manhattan</td>\n      <td>M056</td>\n      <td>410</td>\n      <td>406</td>\n      <td>381</td>\n      <td>59.7</td>\n    </tr>\n  </tbody>\n</table>\n</div>"
          },
          "metadata": {
            "application/com.datacamp.data-table.v2+json": {
              "status": "success"
            }
          },
          "execution_count": 93
        }
      ],
      "execution_count": 93
    },
    {
      "id": "59423fd0-5c1f-492b-acb9-24192bbeee01",
      "cell_type": "code",
      "source": "# find schools have the best math results\nmath_school = schools[[\"school_name\", \"average_math\"]]\nbest_math_schools = math_school[math_school['average_math'] >= 0.8*800].sort_values('average_math', ascending=False)",
      "metadata": {
        "executionCancelledAt": null,
        "executionTime": 49,
        "lastExecutedAt": 1746163441423,
        "lastExecutedByKernel": "0a7b878a-e768-4cd8-8059-3713b027ece9",
        "lastScheduledRunId": null,
        "lastSuccessfullyExecutedCode": "# find schools have the best math results\nmath_school = schools[[\"school_name\", \"average_math\"]]\nbest_math_schools = math_school[math_school['average_math'] >= 0.8*800].sort_values('average_math', ascending=False)",
        "outputsMetadata": {
          "0": {
            "height": 500,
            "type": "dataFrame",
            "tableState": {}
          }
        }
      },
      "outputs": [],
      "execution_count": 94
    },
    {
      "id": "ea00994a-e846-4896-a42c-e8ea8d56d1bc",
      "cell_type": "code",
      "source": "# top 10 performing schools based on the combined SAT scores\nsat_result = schools\nsat_result[\"total_SAT\"] = schools[\"average_math\"] + schools[\"average_reading\"] + schools[\"average_writing\"]\nsat_result = sat_result.sort_values('total_SAT', ascending=False)\ntop_10_schools = sat_result[['school_name', 'total_SAT']].head(10)",
      "metadata": {
        "executionCancelledAt": null,
        "executionTime": 55,
        "lastExecutedAt": 1746163441479,
        "lastExecutedByKernel": "0a7b878a-e768-4cd8-8059-3713b027ece9",
        "lastScheduledRunId": null,
        "lastSuccessfullyExecutedCode": "# top 10 performing schools based on the combined SAT scores\nsat_result = schools\nsat_result[\"total_SAT\"] = schools[\"average_math\"] + schools[\"average_reading\"] + schools[\"average_writing\"]\nsat_result = sat_result.sort_values('total_SAT', ascending=False)\ntop_10_schools = sat_result[['school_name', 'total_SAT']].head(10)",
        "outputsMetadata": {
          "0": {
            "height": 500,
            "type": "dataFrame",
            "tableState": {}
          }
        }
      },
      "outputs": [],
      "execution_count": 95
    },
    {
      "id": "55eb9c75-c2a3-4e64-8cc7-add448d8938f",
      "cell_type": "code",
      "source": "# largest standard deviation in the combined SAT score of boroughs\nlargest_std_dev = pd.DataFrame(columns=['borough', 'num_schools', 'average_SAT', 'std_SAT'])\n\nborough = sat_result.groupby('borough')['total_SAT'].std().idxmax()\nschool_in_borough = sat_result[sat_result['borough'] == borough]\nnum_schools = len(school_in_borough)\naverage_SAT = school_in_borough['total_SAT'].mean().round(2)\nstd_SAT = school_in_borough['total_SAT'].std().round(2)\n\nlargest_std_dev.loc[0] = [borough, num_schools, average_SAT, std_SAT]\nlargest_std_dev",
      "metadata": {
        "executionCancelledAt": null,
        "executionTime": 55,
        "lastExecutedAt": 1746163441535,
        "lastExecutedByKernel": "0a7b878a-e768-4cd8-8059-3713b027ece9",
        "lastScheduledRunId": null,
        "lastSuccessfullyExecutedCode": "# largest standard deviation in the combined SAT score of boroughs\nlargest_std_dev = pd.DataFrame(columns=['borough', 'num_schools', 'average_SAT', 'std_SAT'])\n\nborough = sat_result.groupby('borough')['total_SAT'].std().idxmax()\nschool_in_borough = sat_result[sat_result['borough'] == borough]\nnum_schools = len(school_in_borough)\naverage_SAT = school_in_borough['total_SAT'].mean().round(2)\nstd_SAT = school_in_borough['total_SAT'].std().round(2)\n\nlargest_std_dev.loc[0] = [borough, num_schools, average_SAT, std_SAT]\nlargest_std_dev",
        "outputsMetadata": {
          "0": {
            "height": 50,
            "type": "dataFrame",
            "tableState": {
              "customFilter": {
                "const": {
                  "type": "boolean",
                  "valid": true,
                  "value": true
                },
                "id": "0c4f8182-9630-4a66-a4ae-b0c3d1b6f104",
                "nodeType": "const"
              }
            }
          }
        }
      },
      "outputs": [
        {
          "output_type": "execute_result",
          "data": {
            "application/com.datacamp.data-table.v2+json": {
              "table": {
                "schema": {
                  "fields": [
                    {
                      "name": "index",
                      "type": "integer"
                    },
                    {
                      "name": "borough",
                      "type": "string"
                    },
                    {
                      "name": "num_schools",
                      "type": "integer"
                    },
                    {
                      "name": "average_SAT",
                      "type": "number"
                    },
                    {
                      "name": "std_SAT",
                      "type": "number"
                    }
                  ],
                  "primaryKey": [
                    "index"
                  ],
                  "pandas_version": "1.4.0"
                },
                "data": {
                  "index": [
                    0
                  ],
                  "borough": [
                    "Manhattan"
                  ],
                  "num_schools": [
                    89
                  ],
                  "average_SAT": [
                    1340.13
                  ],
                  "std_SAT": [
                    230.29
                  ]
                }
              },
              "total_rows": 1,
              "truncation_type": null
            },
            "text/plain": "     borough  num_schools  average_SAT  std_SAT\n0  Manhattan           89      1340.13   230.29",
            "text/html": "<div>\n<style scoped>\n    .dataframe tbody tr th:only-of-type {\n        vertical-align: middle;\n    }\n\n    .dataframe tbody tr th {\n        vertical-align: top;\n    }\n\n    .dataframe thead th {\n        text-align: right;\n    }\n</style>\n<table border=\"1\" class=\"dataframe\">\n  <thead>\n    <tr style=\"text-align: right;\">\n      <th></th>\n      <th>borough</th>\n      <th>num_schools</th>\n      <th>average_SAT</th>\n      <th>std_SAT</th>\n    </tr>\n  </thead>\n  <tbody>\n    <tr>\n      <th>0</th>\n      <td>Manhattan</td>\n      <td>89</td>\n      <td>1340.13</td>\n      <td>230.29</td>\n    </tr>\n  </tbody>\n</table>\n</div>"
          },
          "metadata": {
            "application/com.datacamp.data-table.v2+json": {
              "status": "success"
            }
          },
          "execution_count": 96
        }
      ],
      "execution_count": 96
    }
  ]
}